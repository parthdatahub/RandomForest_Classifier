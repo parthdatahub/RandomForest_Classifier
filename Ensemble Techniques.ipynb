{
 "cells": [
  {
   "cell_type": "markdown",
   "id": "5bc69701",
   "metadata": {},
   "source": [
    "# Ensemble Techniques"
   ]
  },
  {
   "cell_type": "code",
   "execution_count": null,
   "id": "b0b65e9b",
   "metadata": {},
   "outputs": [],
   "source": [
    "Ensemble Techniques : Combine number of decision tress to give optimal prediction\n",
    "    \n",
    "1. BAgging : (Parallel Approach)\n",
    "    BAgging = Bootstrapping + Aggregating\n",
    "    \n",
    "    1. Random Forest  \n",
    "    >> Forest of decision trees which randomly select the features for selecting decision node\n",
    "    >> n_estimator = 100 bydefault\n",
    "    \n",
    "2. Boosting : (Sequential Approach)\n",
    "    Giving more weightage to missclassified datapoints\n",
    "    n_estimator = 50 bydefault\n",
    "    1. AdaBoost\n",
    "    2. Gradient Boosting\n",
    "    3. XGBoost\n",
    "    4. CataBoost"
   ]
  }
 ],
 "metadata": {
  "kernelspec": {
   "display_name": "Python 3 (ipykernel)",
   "language": "python",
   "name": "python3"
  },
  "language_info": {
   "codemirror_mode": {
    "name": "ipython",
    "version": 3
   },
   "file_extension": ".py",
   "mimetype": "text/x-python",
   "name": "python",
   "nbconvert_exporter": "python",
   "pygments_lexer": "ipython3",
   "version": "3.11.0"
  }
 },
 "nbformat": 4,
 "nbformat_minor": 5
}
